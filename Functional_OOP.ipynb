{
 "cells": [
  {
   "cell_type": "code",
   "execution_count": null,
   "id": "1a4aa49c-ff3f-47f6-a3ec-df115101ac80",
   "metadata": {},
   "outputs": [],
   "source": [
    "class Solution:\n",
    "    # Function to sort an array of 0s, 1s, and 2s\n",
    "    def sort012(self, arr):\n",
    "        arr.sort()\n",
    "        \n",
    "        "
   ]
  },
  {
   "cell_type": "code",
   "execution_count": null,
   "id": "f40b7528-e2f8-4264-9b1a-f63bb75f3a0d",
   "metadata": {},
   "outputs": [],
   "source": [
    "class Solution:\n",
    "    def binarysearch(self, arr, k):\n",
    "\n",
    "        l,r=0,len(arr)-1\n",
    "\n",
    "        m=-11\n",
    "\n",
    "        while l<=r:\n",
    "\n",
    "            mid=(l+r)//2 \n",
    "\n",
    "            if arr[mid]==k:\n",
    "\n",
    "                m=mid\n",
    "\n",
    "                r=mid-1\n",
    "\n",
    "            elif arr[mid]<k:\n",
    "\n",
    "                l=mid+1\n",
    "\n",
    "            else:\n",
    "\n",
    "                r=mid-1\n",
    "\n",
    "        if m!=-11:\n",
    "\n",
    "            return m\n",
    "\n",
    "        else:\n",
    "\n",
    "            return -1\n",
    "    \n",
    "    "
   ]
  }
 ],
 "metadata": {
  "kernelspec": {
   "display_name": "Python 3 (ipykernel)",
   "language": "python",
   "name": "python3"
  },
  "language_info": {
   "name": ""
  }
 },
 "nbformat": 4,
 "nbformat_minor": 5
}
